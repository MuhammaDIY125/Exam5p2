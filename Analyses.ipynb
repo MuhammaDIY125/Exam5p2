{
 "cells": [
  {
   "cell_type": "markdown",
   "metadata": {},
   "source": [
    "## Start"
   ]
  },
  {
   "cell_type": "code",
   "execution_count": 1,
   "metadata": {},
   "outputs": [],
   "source": [
    "import optuna\n",
    "import numpy as np\n",
    "import pandas as pd\n",
    "import seaborn as sns\n",
    "import matplotlib.pyplot as plt\n",
    "from sklearn.model_selection import KFold\n",
    "from sklearn.ensemble import RandomForestRegressor\n",
    "from sklearn.metrics import mean_absolute_error as MAE\n",
    "\n",
    "import warnings\n",
    "warnings.filterwarnings(\"ignore\")"
   ]
  },
  {
   "cell_type": "code",
   "execution_count": 2,
   "metadata": {},
   "outputs": [
    {
     "data": {
      "text/html": [
       "<div>\n",
       "<style scoped>\n",
       "    .dataframe tbody tr th:only-of-type {\n",
       "        vertical-align: middle;\n",
       "    }\n",
       "\n",
       "    .dataframe tbody tr th {\n",
       "        vertical-align: top;\n",
       "    }\n",
       "\n",
       "    .dataframe thead th {\n",
       "        text-align: right;\n",
       "    }\n",
       "</style>\n",
       "<table border=\"1\" class=\"dataframe\">\n",
       "  <thead>\n",
       "    <tr style=\"text-align: right;\">\n",
       "      <th></th>\n",
       "      <th>Row#</th>\n",
       "      <th>clonesize</th>\n",
       "      <th>honeybee</th>\n",
       "      <th>bumbles</th>\n",
       "      <th>andrena</th>\n",
       "      <th>osmia</th>\n",
       "      <th>MaxOfUpperTRange</th>\n",
       "      <th>MinOfUpperTRange</th>\n",
       "      <th>AverageOfUpperTRange</th>\n",
       "      <th>MaxOfLowerTRange</th>\n",
       "      <th>MinOfLowerTRange</th>\n",
       "      <th>AverageOfLowerTRange</th>\n",
       "      <th>RainingDays</th>\n",
       "      <th>AverageRainingDays</th>\n",
       "      <th>fruitset</th>\n",
       "      <th>fruitmass</th>\n",
       "      <th>seeds</th>\n",
       "      <th>yield</th>\n",
       "    </tr>\n",
       "  </thead>\n",
       "  <tbody>\n",
       "    <tr>\n",
       "      <th>0</th>\n",
       "      <td>104.0</td>\n",
       "      <td>12.5</td>\n",
       "      <td>0.25</td>\n",
       "      <td>0.25</td>\n",
       "      <td>0.25</td>\n",
       "      <td>0.75</td>\n",
       "      <td>69.7</td>\n",
       "      <td>42.1</td>\n",
       "      <td>58.2</td>\n",
       "      <td>50.2</td>\n",
       "      <td>24.3</td>\n",
       "      <td>41.2</td>\n",
       "      <td>16.00</td>\n",
       "      <td>0.26</td>\n",
       "      <td>0.477941</td>\n",
       "      <td>0.423927</td>\n",
       "      <td>34.043022</td>\n",
       "      <td>6079.08526</td>\n",
       "    </tr>\n",
       "    <tr>\n",
       "      <th>1</th>\n",
       "      <td>764.0</td>\n",
       "      <td>25.0</td>\n",
       "      <td>0.00</td>\n",
       "      <td>0.00</td>\n",
       "      <td>0.00</td>\n",
       "      <td>0.00</td>\n",
       "      <td>86.0</td>\n",
       "      <td>52.0</td>\n",
       "      <td>71.9</td>\n",
       "      <td>62.0</td>\n",
       "      <td>30.0</td>\n",
       "      <td>50.8</td>\n",
       "      <td>3.77</td>\n",
       "      <td>0.06</td>\n",
       "      <td>0.334594</td>\n",
       "      <td>0.354415</td>\n",
       "      <td>27.735098</td>\n",
       "      <td>2946.92602</td>\n",
       "    </tr>\n",
       "    <tr>\n",
       "      <th>2</th>\n",
       "      <td>621.0</td>\n",
       "      <td>25.0</td>\n",
       "      <td>0.50</td>\n",
       "      <td>0.25</td>\n",
       "      <td>0.75</td>\n",
       "      <td>0.63</td>\n",
       "      <td>86.0</td>\n",
       "      <td>52.0</td>\n",
       "      <td>71.9</td>\n",
       "      <td>62.0</td>\n",
       "      <td>30.0</td>\n",
       "      <td>50.8</td>\n",
       "      <td>34.00</td>\n",
       "      <td>0.56</td>\n",
       "      <td>0.468192</td>\n",
       "      <td>0.417915</td>\n",
       "      <td>34.838815</td>\n",
       "      <td>5323.30034</td>\n",
       "    </tr>\n",
       "    <tr>\n",
       "      <th>3</th>\n",
       "      <td>499.0</td>\n",
       "      <td>25.0</td>\n",
       "      <td>0.50</td>\n",
       "      <td>0.25</td>\n",
       "      <td>0.38</td>\n",
       "      <td>0.75</td>\n",
       "      <td>69.7</td>\n",
       "      <td>42.1</td>\n",
       "      <td>58.2</td>\n",
       "      <td>50.2</td>\n",
       "      <td>24.3</td>\n",
       "      <td>41.2</td>\n",
       "      <td>24.00</td>\n",
       "      <td>0.39</td>\n",
       "      <td>0.500558</td>\n",
       "      <td>0.427431</td>\n",
       "      <td>35.134955</td>\n",
       "      <td>6157.05484</td>\n",
       "    </tr>\n",
       "    <tr>\n",
       "      <th>4</th>\n",
       "      <td>439.0</td>\n",
       "      <td>12.5</td>\n",
       "      <td>0.25</td>\n",
       "      <td>0.38</td>\n",
       "      <td>0.50</td>\n",
       "      <td>0.75</td>\n",
       "      <td>77.4</td>\n",
       "      <td>46.8</td>\n",
       "      <td>64.7</td>\n",
       "      <td>55.8</td>\n",
       "      <td>27.0</td>\n",
       "      <td>45.8</td>\n",
       "      <td>24.00</td>\n",
       "      <td>0.39</td>\n",
       "      <td>0.520181</td>\n",
       "      <td>0.464067</td>\n",
       "      <td>37.029180</td>\n",
       "      <td>6992.82314</td>\n",
       "    </tr>\n",
       "  </tbody>\n",
       "</table>\n",
       "</div>"
      ],
      "text/plain": [
       "    Row#  clonesize  honeybee  bumbles  andrena  osmia  MaxOfUpperTRange  \\\n",
       "0  104.0       12.5      0.25     0.25     0.25   0.75              69.7   \n",
       "1  764.0       25.0      0.00     0.00     0.00   0.00              86.0   \n",
       "2  621.0       25.0      0.50     0.25     0.75   0.63              86.0   \n",
       "3  499.0       25.0      0.50     0.25     0.38   0.75              69.7   \n",
       "4  439.0       12.5      0.25     0.38     0.50   0.75              77.4   \n",
       "\n",
       "   MinOfUpperTRange  AverageOfUpperTRange  MaxOfLowerTRange  MinOfLowerTRange  \\\n",
       "0              42.1                  58.2              50.2              24.3   \n",
       "1              52.0                  71.9              62.0              30.0   \n",
       "2              52.0                  71.9              62.0              30.0   \n",
       "3              42.1                  58.2              50.2              24.3   \n",
       "4              46.8                  64.7              55.8              27.0   \n",
       "\n",
       "   AverageOfLowerTRange  RainingDays  AverageRainingDays  fruitset  fruitmass  \\\n",
       "0                  41.2        16.00                0.26  0.477941   0.423927   \n",
       "1                  50.8         3.77                0.06  0.334594   0.354415   \n",
       "2                  50.8        34.00                0.56  0.468192   0.417915   \n",
       "3                  41.2        24.00                0.39  0.500558   0.427431   \n",
       "4                  45.8        24.00                0.39  0.520181   0.464067   \n",
       "\n",
       "       seeds       yield  \n",
       "0  34.043022  6079.08526  \n",
       "1  27.735098  2946.92602  \n",
       "2  34.838815  5323.30034  \n",
       "3  35.134955  6157.05484  \n",
       "4  37.029180  6992.82314  "
      ]
     },
     "execution_count": 2,
     "metadata": {},
     "output_type": "execute_result"
    }
   ],
   "source": [
    "train = pd.read_csv(\"train.csv\").drop(columns=['id'])\n",
    "test = pd.read_csv(\"test.csv\").drop(columns=['id'])\n",
    "\n",
    "train.head()"
   ]
  },
  {
   "cell_type": "code",
   "execution_count": 3,
   "metadata": {},
   "outputs": [
    {
     "name": "stdout",
     "output_type": "stream",
     "text": [
      "<class 'pandas.core.frame.DataFrame'>\n",
      "RangeIndex: 15000 entries, 0 to 14999\n",
      "Data columns (total 18 columns):\n",
      " #   Column                Non-Null Count  Dtype  \n",
      "---  ------                --------------  -----  \n",
      " 0   Row#                  15000 non-null  float64\n",
      " 1   clonesize             15000 non-null  float64\n",
      " 2   honeybee              15000 non-null  float64\n",
      " 3   bumbles               15000 non-null  float64\n",
      " 4   andrena               15000 non-null  float64\n",
      " 5   osmia                 15000 non-null  float64\n",
      " 6   MaxOfUpperTRange      15000 non-null  float64\n",
      " 7   MinOfUpperTRange      15000 non-null  float64\n",
      " 8   AverageOfUpperTRange  15000 non-null  float64\n",
      " 9   MaxOfLowerTRange      15000 non-null  float64\n",
      " 10  MinOfLowerTRange      15000 non-null  float64\n",
      " 11  AverageOfLowerTRange  15000 non-null  float64\n",
      " 12  RainingDays           15000 non-null  float64\n",
      " 13  AverageRainingDays    15000 non-null  float64\n",
      " 14  fruitset              15000 non-null  float64\n",
      " 15  fruitmass             15000 non-null  float64\n",
      " 16  seeds                 15000 non-null  float64\n",
      " 17  yield                 15000 non-null  float64\n",
      "dtypes: float64(18)\n",
      "memory usage: 2.1 MB\n"
     ]
    }
   ],
   "source": [
    "train.info()"
   ]
  },
  {
   "cell_type": "code",
   "execution_count": 4,
   "metadata": {},
   "outputs": [
    {
     "data": {
      "text/html": [
       "<div>\n",
       "<style scoped>\n",
       "    .dataframe tbody tr th:only-of-type {\n",
       "        vertical-align: middle;\n",
       "    }\n",
       "\n",
       "    .dataframe tbody tr th {\n",
       "        vertical-align: top;\n",
       "    }\n",
       "\n",
       "    .dataframe thead th {\n",
       "        text-align: right;\n",
       "    }\n",
       "</style>\n",
       "<table border=\"1\" class=\"dataframe\">\n",
       "  <thead>\n",
       "    <tr style=\"text-align: right;\">\n",
       "      <th></th>\n",
       "      <th>count</th>\n",
       "      <th>mean</th>\n",
       "      <th>std</th>\n",
       "      <th>min</th>\n",
       "      <th>25%</th>\n",
       "      <th>50%</th>\n",
       "      <th>75%</th>\n",
       "      <th>max</th>\n",
       "    </tr>\n",
       "  </thead>\n",
       "  <tbody>\n",
       "    <tr>\n",
       "      <th>Row#</th>\n",
       "      <td>15000.0</td>\n",
       "      <td>427.577533</td>\n",
       "      <td>214.127422</td>\n",
       "      <td>0.000000</td>\n",
       "      <td>247.000000</td>\n",
       "      <td>469.000000</td>\n",
       "      <td>598.000000</td>\n",
       "      <td>777.000000</td>\n",
       "    </tr>\n",
       "    <tr>\n",
       "      <th>clonesize</th>\n",
       "      <td>15000.0</td>\n",
       "      <td>19.773500</td>\n",
       "      <td>6.644451</td>\n",
       "      <td>10.000000</td>\n",
       "      <td>12.500000</td>\n",
       "      <td>25.000000</td>\n",
       "      <td>25.000000</td>\n",
       "      <td>40.000000</td>\n",
       "    </tr>\n",
       "    <tr>\n",
       "      <th>honeybee</th>\n",
       "      <td>15000.0</td>\n",
       "      <td>0.388500</td>\n",
       "      <td>0.390162</td>\n",
       "      <td>0.000000</td>\n",
       "      <td>0.250000</td>\n",
       "      <td>0.500000</td>\n",
       "      <td>0.500000</td>\n",
       "      <td>18.430000</td>\n",
       "    </tr>\n",
       "    <tr>\n",
       "      <th>bumbles</th>\n",
       "      <td>15000.0</td>\n",
       "      <td>0.284573</td>\n",
       "      <td>0.058855</td>\n",
       "      <td>0.000000</td>\n",
       "      <td>0.250000</td>\n",
       "      <td>0.250000</td>\n",
       "      <td>0.380000</td>\n",
       "      <td>0.585000</td>\n",
       "    </tr>\n",
       "    <tr>\n",
       "      <th>andrena</th>\n",
       "      <td>15000.0</td>\n",
       "      <td>0.486751</td>\n",
       "      <td>0.147560</td>\n",
       "      <td>0.000000</td>\n",
       "      <td>0.380000</td>\n",
       "      <td>0.500000</td>\n",
       "      <td>0.630000</td>\n",
       "      <td>0.750000</td>\n",
       "    </tr>\n",
       "    <tr>\n",
       "      <th>osmia</th>\n",
       "      <td>15000.0</td>\n",
       "      <td>0.591612</td>\n",
       "      <td>0.144194</td>\n",
       "      <td>0.000000</td>\n",
       "      <td>0.500000</td>\n",
       "      <td>0.630000</td>\n",
       "      <td>0.750000</td>\n",
       "      <td>0.750000</td>\n",
       "    </tr>\n",
       "    <tr>\n",
       "      <th>MaxOfUpperTRange</th>\n",
       "      <td>15000.0</td>\n",
       "      <td>82.245667</td>\n",
       "      <td>9.104125</td>\n",
       "      <td>69.700000</td>\n",
       "      <td>77.400000</td>\n",
       "      <td>86.000000</td>\n",
       "      <td>86.000000</td>\n",
       "      <td>94.600000</td>\n",
       "    </tr>\n",
       "    <tr>\n",
       "      <th>MinOfUpperTRange</th>\n",
       "      <td>15000.0</td>\n",
       "      <td>49.719033</td>\n",
       "      <td>5.519865</td>\n",
       "      <td>39.000000</td>\n",
       "      <td>46.800000</td>\n",
       "      <td>52.000000</td>\n",
       "      <td>52.000000</td>\n",
       "      <td>57.200000</td>\n",
       "    </tr>\n",
       "    <tr>\n",
       "      <th>AverageOfUpperTRange</th>\n",
       "      <td>15000.0</td>\n",
       "      <td>68.717353</td>\n",
       "      <td>7.606632</td>\n",
       "      <td>56.800000</td>\n",
       "      <td>64.700000</td>\n",
       "      <td>71.900000</td>\n",
       "      <td>71.900000</td>\n",
       "      <td>79.000000</td>\n",
       "    </tr>\n",
       "    <tr>\n",
       "      <th>MaxOfLowerTRange</th>\n",
       "      <td>15000.0</td>\n",
       "      <td>59.282947</td>\n",
       "      <td>6.579928</td>\n",
       "      <td>50.200000</td>\n",
       "      <td>55.800000</td>\n",
       "      <td>62.000000</td>\n",
       "      <td>62.000000</td>\n",
       "      <td>68.200000</td>\n",
       "    </tr>\n",
       "    <tr>\n",
       "      <th>MinOfLowerTRange</th>\n",
       "      <td>15000.0</td>\n",
       "      <td>28.686927</td>\n",
       "      <td>3.180584</td>\n",
       "      <td>24.300000</td>\n",
       "      <td>27.000000</td>\n",
       "      <td>30.000000</td>\n",
       "      <td>30.000000</td>\n",
       "      <td>33.000000</td>\n",
       "    </tr>\n",
       "    <tr>\n",
       "      <th>AverageOfLowerTRange</th>\n",
       "      <td>15000.0</td>\n",
       "      <td>48.611360</td>\n",
       "      <td>5.371006</td>\n",
       "      <td>30.000000</td>\n",
       "      <td>45.800000</td>\n",
       "      <td>50.800000</td>\n",
       "      <td>50.800000</td>\n",
       "      <td>62.000000</td>\n",
       "    </tr>\n",
       "    <tr>\n",
       "      <th>RainingDays</th>\n",
       "      <td>15000.0</td>\n",
       "      <td>18.804700</td>\n",
       "      <td>11.880294</td>\n",
       "      <td>1.000000</td>\n",
       "      <td>16.000000</td>\n",
       "      <td>16.000000</td>\n",
       "      <td>24.000000</td>\n",
       "      <td>34.000000</td>\n",
       "    </tr>\n",
       "    <tr>\n",
       "      <th>AverageRainingDays</th>\n",
       "      <td>15000.0</td>\n",
       "      <td>0.327261</td>\n",
       "      <td>0.166934</td>\n",
       "      <td>0.060000</td>\n",
       "      <td>0.260000</td>\n",
       "      <td>0.260000</td>\n",
       "      <td>0.390000</td>\n",
       "      <td>0.560000</td>\n",
       "    </tr>\n",
       "    <tr>\n",
       "      <th>fruitset</th>\n",
       "      <td>15000.0</td>\n",
       "      <td>0.501015</td>\n",
       "      <td>0.077379</td>\n",
       "      <td>0.029066</td>\n",
       "      <td>0.451083</td>\n",
       "      <td>0.506225</td>\n",
       "      <td>0.564795</td>\n",
       "      <td>0.960586</td>\n",
       "    </tr>\n",
       "    <tr>\n",
       "      <th>fruitmass</th>\n",
       "      <td>15000.0</td>\n",
       "      <td>0.445967</td>\n",
       "      <td>0.038092</td>\n",
       "      <td>0.217545</td>\n",
       "      <td>0.418220</td>\n",
       "      <td>0.446518</td>\n",
       "      <td>0.472271</td>\n",
       "      <td>0.645475</td>\n",
       "    </tr>\n",
       "    <tr>\n",
       "      <th>seeds</th>\n",
       "      <td>15000.0</td>\n",
       "      <td>36.115335</td>\n",
       "      <td>4.121393</td>\n",
       "      <td>22.079199</td>\n",
       "      <td>33.239806</td>\n",
       "      <td>36.040675</td>\n",
       "      <td>39.099614</td>\n",
       "      <td>46.369344</td>\n",
       "    </tr>\n",
       "    <tr>\n",
       "      <th>yield</th>\n",
       "      <td>15000.0</td>\n",
       "      <td>6022.687345</td>\n",
       "      <td>1362.796312</td>\n",
       "      <td>1637.704020</td>\n",
       "      <td>5124.854900</td>\n",
       "      <td>6107.382470</td>\n",
       "      <td>7028.673500</td>\n",
       "      <td>8969.401840</td>\n",
       "    </tr>\n",
       "  </tbody>\n",
       "</table>\n",
       "</div>"
      ],
      "text/plain": [
       "                        count         mean          std          min  \\\n",
       "Row#                  15000.0   427.577533   214.127422     0.000000   \n",
       "clonesize             15000.0    19.773500     6.644451    10.000000   \n",
       "honeybee              15000.0     0.388500     0.390162     0.000000   \n",
       "bumbles               15000.0     0.284573     0.058855     0.000000   \n",
       "andrena               15000.0     0.486751     0.147560     0.000000   \n",
       "osmia                 15000.0     0.591612     0.144194     0.000000   \n",
       "MaxOfUpperTRange      15000.0    82.245667     9.104125    69.700000   \n",
       "MinOfUpperTRange      15000.0    49.719033     5.519865    39.000000   \n",
       "AverageOfUpperTRange  15000.0    68.717353     7.606632    56.800000   \n",
       "MaxOfLowerTRange      15000.0    59.282947     6.579928    50.200000   \n",
       "MinOfLowerTRange      15000.0    28.686927     3.180584    24.300000   \n",
       "AverageOfLowerTRange  15000.0    48.611360     5.371006    30.000000   \n",
       "RainingDays           15000.0    18.804700    11.880294     1.000000   \n",
       "AverageRainingDays    15000.0     0.327261     0.166934     0.060000   \n",
       "fruitset              15000.0     0.501015     0.077379     0.029066   \n",
       "fruitmass             15000.0     0.445967     0.038092     0.217545   \n",
       "seeds                 15000.0    36.115335     4.121393    22.079199   \n",
       "yield                 15000.0  6022.687345  1362.796312  1637.704020   \n",
       "\n",
       "                              25%          50%          75%          max  \n",
       "Row#                   247.000000   469.000000   598.000000   777.000000  \n",
       "clonesize               12.500000    25.000000    25.000000    40.000000  \n",
       "honeybee                 0.250000     0.500000     0.500000    18.430000  \n",
       "bumbles                  0.250000     0.250000     0.380000     0.585000  \n",
       "andrena                  0.380000     0.500000     0.630000     0.750000  \n",
       "osmia                    0.500000     0.630000     0.750000     0.750000  \n",
       "MaxOfUpperTRange        77.400000    86.000000    86.000000    94.600000  \n",
       "MinOfUpperTRange        46.800000    52.000000    52.000000    57.200000  \n",
       "AverageOfUpperTRange    64.700000    71.900000    71.900000    79.000000  \n",
       "MaxOfLowerTRange        55.800000    62.000000    62.000000    68.200000  \n",
       "MinOfLowerTRange        27.000000    30.000000    30.000000    33.000000  \n",
       "AverageOfLowerTRange    45.800000    50.800000    50.800000    62.000000  \n",
       "RainingDays             16.000000    16.000000    24.000000    34.000000  \n",
       "AverageRainingDays       0.260000     0.260000     0.390000     0.560000  \n",
       "fruitset                 0.451083     0.506225     0.564795     0.960586  \n",
       "fruitmass                0.418220     0.446518     0.472271     0.645475  \n",
       "seeds                   33.239806    36.040675    39.099614    46.369344  \n",
       "yield                 5124.854900  6107.382470  7028.673500  8969.401840  "
      ]
     },
     "execution_count": 4,
     "metadata": {},
     "output_type": "execute_result"
    }
   ],
   "source": [
    "train.describe().T"
   ]
  },
  {
   "cell_type": "markdown",
   "metadata": {},
   "source": [
    "## Feature Engineering"
   ]
  },
  {
   "cell_type": "code",
   "execution_count": 5,
   "metadata": {},
   "outputs": [
    {
     "data": {
      "image/png": "[encoded data removed]",
      "text/plain": [
       "<Figure size 640x480 with 2 Axes>"
      ]
     },
     "metadata": {},
     "output_type": "display_data"
    }
   ],
   "source": [
    "sns.heatmap(train.corr(method='spearman'), cmap='coolwarm', center=0)\n",
    "plt.show()"
   ]
  },
  {
   "cell_type": "markdown",
   "metadata": {},
   "source": [
    "Хоть `Row#` имеет некую высокую корреляцию с некоторыми признаками, но по сути это лишь шум, так что мы уберём его. Все `TRange` имеют очень высокую корреляцию между собой и очень низкую между другими, поэтому их тоже можем выбросить. Есть ещё некоторые признаки имеющие очень похожие корреляции, оставим среди них только те, у которых самая высокая корреляция. Добавим новые признаки."
   ]
  },
  {
   "cell_type": "code",
   "execution_count": 6,
   "metadata": {},
   "outputs": [
    {
     "data": {
      "text/html": [
       "<div>\n",
       "<style scoped>\n",
       "    .dataframe tbody tr th:only-of-type {\n",
       "        vertical-align: middle;\n",
       "    }\n",
       "\n",
       "    .dataframe tbody tr th {\n",
       "        vertical-align: top;\n",
       "    }\n",
       "\n",
       "    .dataframe thead th {\n",
       "        text-align: right;\n",
       "    }\n",
       "</style>\n",
       "<table border=\"1\" class=\"dataframe\">\n",
       "  <thead>\n",
       "    <tr style=\"text-align: right;\">\n",
       "      <th></th>\n",
       "      <th>fruitset</th>\n",
       "      <th>yield_factor</th>\n",
       "      <th>fruit_per_clone</th>\n",
       "      <th>seed_per_fruit</th>\n",
       "      <th>yield</th>\n",
       "    </tr>\n",
       "  </thead>\n",
       "  <tbody>\n",
       "    <tr>\n",
       "      <th>0</th>\n",
       "      <td>0.477941</td>\n",
       "      <td>14.431757</td>\n",
       "      <td>0.038235</td>\n",
       "      <td>71.228382</td>\n",
       "      <td>6079.08526</td>\n",
       "    </tr>\n",
       "    <tr>\n",
       "      <th>1</th>\n",
       "      <td>0.334594</td>\n",
       "      <td>9.829734</td>\n",
       "      <td>0.013384</td>\n",
       "      <td>82.891651</td>\n",
       "      <td>2946.92602</td>\n",
       "    </tr>\n",
       "    <tr>\n",
       "      <th>2</th>\n",
       "      <td>0.468192</td>\n",
       "      <td>14.559679</td>\n",
       "      <td>0.018728</td>\n",
       "      <td>74.411152</td>\n",
       "      <td>5323.30034</td>\n",
       "    </tr>\n",
       "    <tr>\n",
       "      <th>3</th>\n",
       "      <td>0.500558</td>\n",
       "      <td>15.017763</td>\n",
       "      <td>0.020022</td>\n",
       "      <td>70.191436</td>\n",
       "      <td>6157.05484</td>\n",
       "    </tr>\n",
       "    <tr>\n",
       "      <th>4</th>\n",
       "      <td>0.520181</td>\n",
       "      <td>17.184015</td>\n",
       "      <td>0.041614</td>\n",
       "      <td>71.185062</td>\n",
       "      <td>6992.82314</td>\n",
       "    </tr>\n",
       "  </tbody>\n",
       "</table>\n",
       "</div>"
      ],
      "text/plain": [
       "   fruitset  yield_factor  fruit_per_clone  seed_per_fruit       yield\n",
       "0  0.477941     14.431757         0.038235       71.228382  6079.08526\n",
       "1  0.334594      9.829734         0.013384       82.891651  2946.92602\n",
       "2  0.468192     14.559679         0.018728       74.411152  5323.30034\n",
       "3  0.500558     15.017763         0.020022       70.191436  6157.05484\n",
       "4  0.520181     17.184015         0.041614       71.185062  6992.82314"
      ]
     },
     "execution_count": 6,
     "metadata": {},
     "output_type": "execute_result"
    }
   ],
   "source": [
    "def update_df(df:pd.DataFrame):\n",
    "    df = df.copy()\n",
    "\n",
    "    # Общий показатель всех опылителей, чтобы оценить их совокупное воздействие на урожайность.\n",
    "    # df['total_pollinators'] = df['honeybee'] + df['bumbles'] + df['andrena'] + df['osmia']\n",
    "    \n",
    "    # Доля медоносных пчел среди всех опылителей, чтобы увидеть их значимость в опылении.\n",
    "    # df['honeybee_ratio'] = df['honeybee'] / (df['total_pollinators'] + 1e-6)\n",
    "\n",
    "    # Суммарное количество диких пчел для анализа их вклада в опыление.\n",
    "    # df['wild_bees'] = df['bumbles'] + df['andrena'] + df['osmia']\n",
    "\n",
    "    # Количество дождливых дней на одного опылителя, что может помочь понять, насколько опыление зависит от дождя.\n",
    "    # df['rain_per_pollinator'] = df['RainingDays'] / (df['total_pollinators'] + 1e-6)\n",
    "\n",
    "    # Количество семян на единицу завязей, что может помочь понять, насколько плодовитое растение.\n",
    "    df['seed_per_fruit'] = df['seeds'] / (df['fruitset'] + 1e-6)\n",
    "\n",
    "    # Оценка потенциальной продуктивности на основе массы плодов и количества семян.\n",
    "    df['yield_factor'] = df['fruitmass'] * df['seeds']\n",
    "\n",
    "    # Показатель, чтобы понять, как размер клонов влияет на эффективность опыления.\n",
    "    # df['clone_to_pollinator_ratio'] = df['clonesize'] / (df['total_pollinators'] + 1e-6)\n",
    "\n",
    "    # Среднее количество плодов на один клон, что может указать на эффективность размножения в зависимости от размера клона.\n",
    "    df['fruit_per_clone'] = df['fruitset'] / (df['clonesize'] + 1e-6)\n",
    "\n",
    "\n",
    "    if 'yield' in df.columns:\n",
    "        df = df[['fruitset', 'yield_factor', 'fruit_per_clone', 'seed_per_fruit', 'yield']]\n",
    "    else:\n",
    "        df = df[['fruitset', 'yield_factor', 'fruit_per_clone', 'seed_per_fruit']]\n",
    "\n",
    "    return df\n",
    "\n",
    "\n",
    "train = update_df(train)\n",
    "test = update_df(test)\n",
    "\n",
    "train.head()"
   ]
  },
  {
   "cell_type": "code",
   "execution_count": 7,
   "metadata": {},
   "outputs": [
    {
     "data": {
      "image/png": "[encoded data removed]",
      "text/plain": [
       "<Figure size 640x480 with 2 Axes>"
      ]
     },
     "metadata": {},
     "output_type": "display_data"
    }
   ],
   "source": [
    "sns.heatmap(train.corr(method='spearman'), cmap='coolwarm', center=0)\n",
    "plt.show()"
   ]
  },
  {
   "cell_type": "markdown",
   "metadata": {},
   "source": [
    "## Model"
   ]
  },
  {
   "cell_type": "markdown",
   "metadata": {},
   "source": [
    "В начале я использовал разные стэк модели, но все они показали результаты хуже чем обычный `RandomForestRegressor`"
   ]
  },
  {
   "cell_type": "code",
   "execution_count": 8,
   "metadata": {},
   "outputs": [],
   "source": [
    "SEED = 1\n",
    "\n",
    "X = train.drop('yield', axis=1)\n",
    "y = train['yield']\n",
    "\n",
    "kf = KFold(n_splits=10, shuffle=True, random_state=SEED)"
   ]
  },
  {
   "cell_type": "code",
   "execution_count": 9,
   "metadata": {},
   "outputs": [
    {
     "name": "stderr",
     "output_type": "stream",
     "text": [
      "[I 2024-11-09 18:07:16,570] Using an existing study with name 'tuning' instead of creating a new one.\n"
     ]
    }
   ],
   "source": [
    "def objective(trial):\n",
    "    rf_n_estimators = trial.suggest_int('rf_n_estimators', 50, 600)\n",
    "    rf_max_depth = trial.suggest_int('rf_max_depth', 3, 20)\n",
    "    rf_min_samples_split = trial.suggest_int('rf_min_samples_split', 2, 20)\n",
    "    rf_min_samples_leaf = trial.suggest_int('rf_min_samples_leaf', 1, 20)\n",
    "    rf_min_impurity_decrease = trial.suggest_float('rf_min_impurity_decrease', 0.0, 0.1)\n",
    "    rf_ccp_alpha = trial.suggest_float('rf_ccp_alpha', 0.0, 0.1)\n",
    "\n",
    "    current_params = {\n",
    "        'rf_n_estimators': rf_n_estimators,\n",
    "        'rf_max_depth': rf_max_depth,\n",
    "        'rf_min_samples_split': rf_min_samples_split,\n",
    "        'rf_min_samples_leaf': rf_min_samples_leaf,\n",
    "        'rf_min_impurity_decrease': rf_min_impurity_decrease,\n",
    "        'rf_ccp_alpha': rf_ccp_alpha\n",
    "    }\n",
    "\n",
    "    for completed_trial in study.get_trials(states=[optuna.trial.TrialState.COMPLETE]):\n",
    "        if all(completed_trial.params.get(param) == value for param, value in current_params.items()):\n",
    "            raise optuna.TrialPruned()\n",
    "\n",
    "    rf_model = RandomForestRegressor(\n",
    "        n_estimators=rf_n_estimators,\n",
    "        criterion='absolute_error',\n",
    "        max_depth=rf_max_depth,\n",
    "        min_samples_split=rf_min_samples_split,\n",
    "        min_samples_leaf=rf_min_samples_leaf,\n",
    "        min_impurity_decrease=rf_min_impurity_decrease,\n",
    "        ccp_alpha=rf_ccp_alpha,\n",
    "        n_jobs=-1,\n",
    "        random_state=SEED\n",
    "    )\n",
    "\n",
    "    train_scores = []\n",
    "    val_scores = []\n",
    "\n",
    "    for train_index, val_index in kf.split(X, y):\n",
    "        X_t, X_v = X.iloc[train_index], X.iloc[val_index]\n",
    "        y_t, y_v = y.iloc[train_index], y.iloc[val_index]\n",
    "\n",
    "        rf_model.fit(X_t, y_t)\n",
    "\n",
    "        train_score = MAE(y_t, rf_model.predict(X_t))\n",
    "        val_score = MAE(y_v, rf_model.predict(X_v))\n",
    "\n",
    "        train_scores.append(train_score)\n",
    "        val_scores.append(val_score)\n",
    "\n",
    "    mean_train_score = np.mean(train_scores)\n",
    "    mean_val_score = np.mean(val_scores)\n",
    "    score_diff = mean_val_score - mean_train_score\n",
    "\n",
    "    print(f\"Mean Train Score: {mean_train_score}\")\n",
    "    print(f\"Mean Val Score: {mean_val_score}\")\n",
    "    print(f\"Score Difference: {score_diff}\")\n",
    "\n",
    "    trial.set_user_attr(\"mean_train_score\", mean_train_score)\n",
    "    trial.set_user_attr(\"mean_val_score\", mean_val_score)\n",
    "    trial.set_user_attr(\"score_diff\", score_diff)\n",
    "\n",
    "    if score_diff < 0:\n",
    "        return 1000\n",
    "\n",
    "    score = mean_val_score + score_diff\n",
    "\n",
    "    return score\n",
    "\n",
    "\n",
    "study = optuna.create_study(\n",
    "    storage='sqlite:///optuna.db',\n",
    "    study_name='tuning',\n",
    "    load_if_exists=True,\n",
    "    direction='minimize'\n",
    ")\n",
    "\n",
    "study.optimize(objective, n_trials=0)"
   ]
  },
  {
   "cell_type": "code",
   "execution_count": 10,
   "metadata": {},
   "outputs": [
    {
     "name": "stdout",
     "output_type": "stream",
     "text": [
      "Best trial:\n",
      "Value: 264.31359651062763\n",
      "Params:\n",
      "    rf_n_estimators: 87\n",
      "    rf_max_depth: 8\n",
      "    rf_min_samples_split: 4\n",
      "    rf_min_samples_leaf: 1\n",
      "    rf_max_features: 6\n",
      "    huber_alpha: 0.0031615292129171814\n",
      "    huber_epsilon: 1.755503156264336\n",
      "    ridge_alpha: 1.762891917316628\n"
     ]
    }
   ],
   "source": [
    "trial = study.best_trial\n",
    "\n",
    "print(\"Best trial:\")\n",
    "print(f\"Value: {trial.value}\")\n",
    "print(\"Params:\")\n",
    "for key, value in trial.params.items():\n",
    "    print(f\"    {key}: {value}\")"
   ]
  },
  {
   "cell_type": "markdown",
   "metadata": {},
   "source": [
    "Глянем какие параметры влияли а какие нет"
   ]
  },
  {
   "cell_type": "code",
   "execution_count": 11,
   "metadata": {},
   "outputs": [
    {
     "data": {
      "application/vnd.plotly.v1+json": {
       "config": {
        "plotlyServerURL": "https://plot.ly"
       },
       "data": [
        {
         "cliponaxis": false,
         "hovertemplate": [
          "ridge_alpha (FloatDistribution): 0.0019136806314264264<extra></extra>",
          "huber_epsilon (FloatDistribution): 0.005880754650225393<extra></extra>",
          "rf_min_samples_split (IntDistribution): 0.06498376793199406<extra></extra>",
          "rf_max_features (IntDistribution): 0.1337550909097979<extra></extra>",
          "rf_n_estimators (IntDistribution): 0.15961187362103305<extra></extra>",
          "rf_min_samples_leaf (IntDistribution): 0.164065036917148<extra></extra>",
          "huber_alpha (FloatDistribution): 0.2232581539440937<extra></extra>",
          "rf_max_depth (IntDistribution): 0.24653164139428163<extra></extra>"
         ],
         "name": "Objective Value",
         "orientation": "h",
         "text": [
          "<0.01",
          "<0.01",
          "0.06",
          "0.13",
          "0.16",
          "0.16",
          "0.22",
          "0.25"
         ],
         "textposition": "outside",
         "type": "bar",
         "x": [
          0.0019136806314264264,
          0.005880754650225393,
          0.06498376793199406,
          0.1337550909097979,
          0.15961187362103305,
          0.164065036917148,
          0.2232581539440937,
          0.24653164139428163
         ],
         "y": [
          "ridge_alpha",
          "huber_epsilon",
          "rf_min_samples_split",
          "rf_max_features",
          "rf_n_estimators",
          "rf_min_samples_leaf",
          "huber_alpha",
          "rf_max_depth"
         ]
        }
       ],
       "layout": {
        "template": {
         "data": {
          "bar": [
           {
            "error_x": {
             "color": "#2a3f5f"
            },
            "error_y": {
             "color": "#2a3f5f"
            },
            "marker": {
             "line": {
              "color": "#E5ECF6",
              "width": 0.5
             },
             "pattern": {
              "fillmode": "overlay",
              "size": 10,
              "solidity": 0.2
             }
            },
            "type": "bar"
           }
          ],
          "barpolar": [
           {
            "marker": {
             "line": {
              "color": "#E5ECF6",
              "width": 0.5
             },
             "pattern": {
              "fillmode": "overlay",
              "size": 10,
              "solidity": 0.2
             }
            },
            "type": "barpolar"
           }
          ],
          "carpet": [
           {
            "aaxis": {
             "endlinecolor": "#2a3f5f",
             "gridcolor": "white",
             "linecolor": "white",
             "minorgridcolor": "white",
             "startlinecolor": "#2a3f5f"
            },
            "baxis": {
             "endlinecolor": "#2a3f5f",
             "gridcolor": "white",
             "linecolor": "white",
             "minorgridcolor": "white",
             "startlinecolor": "#2a3f5f"
            },
            "type": "carpet"
           }
          ],
          "choropleth": [
           {
            "colorbar": {
             "outlinewidth": 0,
             "ticks": ""
            },
            "type": "choropleth"
           }
          ],
          "contour": [
           {
            "colorbar": {
             "outlinewidth": 0,
             "ticks": ""
            },
            "colorscale": [
             [
              0,
              "#0d0887"
             ],
             [
              0.1111111111111111,
              "#46039f"
             ],
             [
              0.2222222222222222,
              "#7201a8"
             ],
             [
              0.3333333333333333,
              "#9c179e"
             ],
             [
              0.4444444444444444,
              "#bd3786"
             ],
             [
              0.5555555555555556,
              "#d8576b"
             ],
             [
              0.6666666666666666,
              "#ed7953"
             ],
             [
              0.7777777777777778,
              "#fb9f3a"
             ],
             [
              0.8888888888888888,
              "#fdca26"
             ],
             [
              1,
              "#f0f921"
             ]
            ],
            "type": "contour"
           }
          ],
          "contourcarpet": [
           {
            "colorbar": {
             "outlinewidth": 0,
             "ticks": ""
            },
            "type": "contourcarpet"
           }
          ],
          "heatmap": [
           {
            "colorbar": {
             "outlinewidth": 0,
             "ticks": ""
            },
            "colorscale": [
             [
              0,
              "#0d0887"
             ],
             [
              0.1111111111111111,
              "#46039f"
             ],
             [
              0.2222222222222222,
              "#7201a8"
             ],
             [
              0.3333333333333333,
              "#9c179e"
             ],
             [
              0.4444444444444444,
              "#bd3786"
             ],
             [
              0.5555555555555556,
              "#d8576b"
             ],
             [
              0.6666666666666666,
              "#ed7953"
             ],
             [
              0.7777777777777778,
              "#fb9f3a"
             ],
             [
              0.8888888888888888,
              "#fdca26"
             ],
             [
              1,
              "#f0f921"
             ]
            ],
            "type": "heatmap"
           }
          ],
          "heatmapgl": [
           {
            "colorbar": {
             "outlinewidth": 0,
             "ticks": ""
            },
            "colorscale": [
             [
              0,
              "#0d0887"
             ],
             [
              0.1111111111111111,
              "#46039f"
             ],
             [
              0.2222222222222222,
              "#7201a8"
             ],
             [
              0.3333333333333333,
              "#9c179e"
             ],
             [
              0.4444444444444444,
              "#bd3786"
             ],
             [
              0.5555555555555556,
              "#d8576b"
             ],
             [
              0.6666666666666666,
              "#ed7953"
             ],
             [
              0.7777777777777778,
              "#fb9f3a"
             ],
             [
              0.8888888888888888,
              "#fdca26"
             ],
             [
              1,
              "#f0f921"
             ]
            ],
            "type": "heatmapgl"
           }
          ],
          "histogram": [
           {
            "marker": {
             "pattern": {
              "fillmode": "overlay",
              "size": 10,
              "solidity": 0.2
             }
            },
            "type": "histogram"
           }
          ],
          "histogram2d": [
           {
            "colorbar": {
             "outlinewidth": 0,
             "ticks": ""
            },
            "colorscale": [
             [
              0,
              "#0d0887"
             ],
             [
              0.1111111111111111,
              "#46039f"
             ],
             [
              0.2222222222222222,
              "#7201a8"
             ],
             [
              0.3333333333333333,
              "#9c179e"
             ],
             [
              0.4444444444444444,
              "#bd3786"
             ],
             [
              0.5555555555555556,
              "#d8576b"
             ],
             [
              0.6666666666666666,
              "#ed7953"
             ],
             [
              0.7777777777777778,
              "#fb9f3a"
             ],
             [
              0.8888888888888888,
              "#fdca26"
             ],
             [
              1,
              "#f0f921"
             ]
            ],
            "type": "histogram2d"
           }
          ],
          "histogram2dcontour": [
           {
            "colorbar": {
             "outlinewidth": 0,
             "ticks": ""
            },
            "colorscale": [
             [
              0,
              "#0d0887"
             ],
             [
              0.1111111111111111,
              "#46039f"
             ],
             [
              0.2222222222222222,
              "#7201a8"
             ],
             [
              0.3333333333333333,
              "#9c179e"
             ],
             [
              0.4444444444444444,
              "#bd3786"
             ],
             [
              0.5555555555555556,
              "#d8576b"
             ],
             [
              0.6666666666666666,
              "#ed7953"
             ],
             [
              0.7777777777777778,
              "#fb9f3a"
             ],
             [
              0.8888888888888888,
              "#fdca26"
             ],
             [
              1,
              "#f0f921"
             ]
            ],
            "type": "histogram2dcontour"
           }
          ],
          "mesh3d": [
           {
            "colorbar": {
             "outlinewidth": 0,
             "ticks": ""
            },
            "type": "mesh3d"
           }
          ],
          "parcoords": [
           {
            "line": {
             "colorbar": {
              "outlinewidth": 0,
              "ticks": ""
             }
            },
            "type": "parcoords"
           }
          ],
          "pie": [
           {
            "automargin": true,
            "type": "pie"
           }
          ],
          "scatter": [
           {
            "fillpattern": {
             "fillmode": "overlay",
             "size": 10,
             "solidity": 0.2
            },
            "type": "scatter"
           }
          ],
          "scatter3d": [
           {
            "line": {
             "colorbar": {
              "outlinewidth": 0,
              "ticks": ""
             }
            },
            "marker": {
             "colorbar": {
              "outlinewidth": 0,
              "ticks": ""
             }
            },
            "type": "scatter3d"
           }
          ],
          "scattercarpet": [
           {
            "marker": {
             "colorbar": {
              "outlinewidth": 0,
              "ticks": ""
             }
            },
            "type": "scattercarpet"
           }
          ],
          "scattergeo": [
           {
            "marker": {
             "colorbar": {
              "outlinewidth": 0,
              "ticks": ""
             }
            },
            "type": "scattergeo"
           }
          ],
          "scattergl": [
           {
            "marker": {
             "colorbar": {
              "outlinewidth": 0,
              "ticks": ""
             }
            },
            "type": "scattergl"
           }
          ],
          "scattermapbox": [
           {
            "marker": {
             "colorbar": {
              "outlinewidth": 0,
              "ticks": ""
             }
            },
            "type": "scattermapbox"
           }
          ],
          "scatterpolar": [
           {
            "marker": {
             "colorbar": {
              "outlinewidth": 0,
              "ticks": ""
             }
            },
            "type": "scatterpolar"
           }
          ],
          "scatterpolargl": [
           {
            "marker": {
             "colorbar": {
              "outlinewidth": 0,
              "ticks": ""
             }
            },
            "type": "scatterpolargl"
           }
          ],
          "scatterternary": [
           {
            "marker": {
             "colorbar": {
              "outlinewidth": 0,
              "ticks": ""
             }
            },
            "type": "scatterternary"
           }
          ],
          "surface": [
           {
            "colorbar": {
             "outlinewidth": 0,
             "ticks": ""
            },
            "colorscale": [
             [
              0,
              "#0d0887"
             ],
             [
              0.1111111111111111,
              "#46039f"
             ],
             [
              0.2222222222222222,
              "#7201a8"
             ],
             [
              0.3333333333333333,
              "#9c179e"
             ],
             [
              0.4444444444444444,
              "#bd3786"
             ],
             [
              0.5555555555555556,
              "#d8576b"
             ],
             [
              0.6666666666666666,
              "#ed7953"
             ],
             [
              0.7777777777777778,
              "#fb9f3a"
             ],
             [
              0.8888888888888888,
              "#fdca26"
             ],
             [
              1,
              "#f0f921"
             ]
            ],
            "type": "surface"
           }
          ],
          "table": [
           {
            "cells": {
             "fill": {
              "color": "#EBF0F8"
             },
             "line": {
              "color": "white"
             }
            },
            "header": {
             "fill": {
              "color": "#C8D4E3"
             },
             "line": {
              "color": "white"
             }
            },
            "type": "table"
           }
          ]
         },
         "layout": {
          "annotationdefaults": {
           "arrowcolor": "#2a3f5f",
           "arrowhead": 0,
           "arrowwidth": 1
          },
          "autotypenumbers": "strict",
          "coloraxis": {
           "colorbar": {
            "outlinewidth": 0,
            "ticks": ""
           }
          },
          "colorscale": {
           "diverging": [
            [
             0,
             "#8e0152"
            ],
            [
             0.1,
             "#c51b7d"
            ],
            [
             0.2,
             "#de77ae"
            ],
            [
             0.3,
             "#f1b6da"
            ],
            [
             0.4,
             "#fde0ef"
            ],
            [
             0.5,
             "#f7f7f7"
            ],
            [
             0.6,
             "#e6f5d0"
            ],
            [
             0.7,
             "#b8e186"
            ],
            [
             0.8,
             "#7fbc41"
            ],
            [
             0.9,
             "#4d9221"
            ],
            [
             1,
             "#276419"
            ]
           ],
           "sequential": [
            [
             0,
             "#0d0887"
            ],
            [
             0.1111111111111111,
             "#46039f"
            ],
            [
             0.2222222222222222,
             "#7201a8"
            ],
            [
             0.3333333333333333,
             "#9c179e"
            ],
            [
             0.4444444444444444,
             "#bd3786"
            ],
            [
             0.5555555555555556,
             "#d8576b"
            ],
            [
             0.6666666666666666,
             "#ed7953"
            ],
            [
             0.7777777777777778,
             "#fb9f3a"
            ],
            [
             0.8888888888888888,
             "#fdca26"
            ],
            [
             1,
             "#f0f921"
            ]
           ],
           "sequentialminus": [
            [
             0,
             "#0d0887"
            ],
            [
             0.1111111111111111,
             "#46039f"
            ],
            [
             0.2222222222222222,
             "#7201a8"
            ],
            [
             0.3333333333333333,
             "#9c179e"
            ],
            [
             0.4444444444444444,
             "#bd3786"
            ],
            [
             0.5555555555555556,
             "#d8576b"
            ],
            [
             0.6666666666666666,
             "#ed7953"
            ],
            [
             0.7777777777777778,
             "#fb9f3a"
            ],
            [
             0.8888888888888888,
             "#fdca26"
            ],
            [
             1,
             "#f0f921"
            ]
           ]
          },
          "colorway": [
           "#636efa",
           "#EF553B",
           "#00cc96",
           "#ab63fa",
           "#FFA15A",
           "#19d3f3",
           "#FF6692",
           "#B6E880",
           "#FF97FF",
           "#FECB52"
          ],
          "font": {
           "color": "#2a3f5f"
          },
          "geo": {
           "bgcolor": "white",
           "lakecolor": "white",
           "landcolor": "#E5ECF6",
           "showlakes": true,
           "showland": true,
           "subunitcolor": "white"
          },
          "hoverlabel": {
           "align": "left"
          },
          "hovermode": "closest",
          "mapbox": {
           "style": "light"
          },
          "paper_bgcolor": "white",
          "plot_bgcolor": "#E5ECF6",
          "polar": {
           "angularaxis": {
            "gridcolor": "white",
            "linecolor": "white",
            "ticks": ""
           },
           "bgcolor": "#E5ECF6",
           "radialaxis": {
            "gridcolor": "white",
            "linecolor": "white",
            "ticks": ""
           }
          },
          "scene": {
           "xaxis": {
            "backgroundcolor": "#E5ECF6",
            "gridcolor": "white",
            "gridwidth": 2,
            "linecolor": "white",
            "showbackground": true,
            "ticks": "",
            "zerolinecolor": "white"
           },
           "yaxis": {
            "backgroundcolor": "#E5ECF6",
            "gridcolor": "white",
            "gridwidth": 2,
            "linecolor": "white",
            "showbackground": true,
            "ticks": "",
            "zerolinecolor": "white"
           },
           "zaxis": {
            "backgroundcolor": "#E5ECF6",
            "gridcolor": "white",
            "gridwidth": 2,
            "linecolor": "white",
            "showbackground": true,
            "ticks": "",
            "zerolinecolor": "white"
           }
          },
          "shapedefaults": {
           "line": {
            "color": "#2a3f5f"
           }
          },
          "ternary": {
           "aaxis": {
            "gridcolor": "white",
            "linecolor": "white",
            "ticks": ""
           },
           "baxis": {
            "gridcolor": "white",
            "linecolor": "white",
            "ticks": ""
           },
           "bgcolor": "#E5ECF6",
           "caxis": {
            "gridcolor": "white",
            "linecolor": "white",
            "ticks": ""
           }
          },
          "title": {
           "x": 0.05
          },
          "xaxis": {
           "automargin": true,
           "gridcolor": "white",
           "linecolor": "white",
           "ticks": "",
           "title": {
            "standoff": 15
           },
           "zerolinecolor": "white",
           "zerolinewidth": 2
          },
          "yaxis": {
           "automargin": true,
           "gridcolor": "white",
           "linecolor": "white",
           "ticks": "",
           "title": {
            "standoff": 15
           },
           "zerolinecolor": "white",
           "zerolinewidth": 2
          }
         }
        },
        "title": {
         "text": "Hyperparameter Importances"
        },
        "xaxis": {
         "title": {
          "text": "Hyperparameter Importance"
         }
        },
        "yaxis": {
         "title": {
          "text": "Hyperparameter"
         }
        }
       }
      }
     },
     "metadata": {},
     "output_type": "display_data"
    }
   ],
   "source": [
    "optuna.visualization.plot_param_importances(study).show()"
   ]
  }
 ],
 "metadata": {
  "kernelspec": {
   "display_name": "base",
   "language": "python",
   "name": "python3"
  },
  "language_info": {
   "codemirror_mode": {
    "name": "ipython",
    "version": 3
   },
   "file_extension": ".py",
   "mimetype": "text/x-python",
   "name": "python",
   "nbconvert_exporter": "python",
   "pygments_lexer": "ipython3",
   "version": "3.12.4"
  }
 },
 "nbformat": 4,
 "nbformat_minor": 2
}
